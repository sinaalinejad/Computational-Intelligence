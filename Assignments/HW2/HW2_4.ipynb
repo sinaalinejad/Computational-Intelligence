{
  "cells": [
    {
      "cell_type": "markdown",
      "metadata": {
        "id": "mqg4KSj_8Nz1"
      },
      "source": [
        "# In this notebook, we run an MLP model on dataset hoda and examine the results in terms of underfitting, fitting and overfitting."
      ]
    },
    {
      "cell_type": "markdown",
      "metadata": {
        "id": "IVk_5eoO76sj"
      },
      "source": [
        "## Download dataset"
      ]
    },
    {
      "cell_type": "code",
      "execution_count": 1,
      "metadata": {
        "colab": {
          "base_uri": "https://localhost:8080/"
        },
        "id": "TjoQGt01Ujx1",
        "outputId": "b40df78b-0d6e-44f8-b70d-cbd6b2847384"
      },
      "outputs": [
        {
          "output_type": "stream",
          "name": "stdout",
          "text": [
            "Downloading...\n",
            "From: https://drive.google.com/uc?id=1QJrQsEYOfPBn1LoIeYMZ2HFBRC0AY-6F\n",
            "To: /content/dataset.py\n",
            "100% 909/909 [00:00<00:00, 3.06MB/s]\n",
            "Downloading...\n",
            "From: https://drive.google.com/uc?id=1zStcaVl_34RrYIfVObuM4xzB6s8xwvBi\n",
            "To: /content/Data_hoda_full.mat\n",
            "100% 3.99M/3.99M [00:00<00:00, 26.6MB/s]\n"
          ]
        }
      ],
      "source": [
        "!gdown --fuzzy https://drive.google.com/file/d/1QJrQsEYOfPBn1LoIeYMZ2HFBRC0AY-6F/view?usp=sharing\n",
        "!gdown --fuzzy https://drive.google.com/file/d/1zStcaVl_34RrYIfVObuM4xzB6s8xwvBi/view?usp=sharing"
      ]
    },
    {
      "cell_type": "markdown",
      "metadata": {
        "id": "ruebTHNSBqRD"
      },
      "source": [
        "## Importing libraries"
      ]
    },
    {
      "cell_type": "code",
      "execution_count": 2,
      "metadata": {
        "id": "WhoXKRptiRDe"
      },
      "outputs": [],
      "source": [
        "import keras\n",
        "import numpy as np\n",
        "import matplotlib.pyplot as plt\n",
        "\n",
        "from keras.models import Sequential\n",
        "from keras.layers import Dense,  Activation\n",
        "from dataset import load_hoda"
      ]
    },
    {
      "cell_type": "markdown",
      "metadata": {
        "id": "ku75DKlg_f9y"
      },
      "source": [
        "# Load dataset"
      ]
    },
    {
      "cell_type": "code",
      "execution_count": 3,
      "metadata": {
        "id": "4D7VhBCKiVWl"
      },
      "outputs": [],
      "source": [
        "x_train_original, y_train_original, x_test_original, y_test_original = load_hoda()"
      ]
    },
    {
      "cell_type": "markdown",
      "metadata": {
        "id": "Wruhn4AmB5zC"
      },
      "source": [
        "### Converting x_train and x_test to ndarray array format and converting y_train and y_test to one-hot-encoding:\n",
        "####First, we have defined a simple function that prints the dimensions, data type and information of the loaded dataset. We will print this information before and after data preprocessing to notice the changes!"
      ]
    },
    {
      "cell_type": "code",
      "source": [
        "print(x_train_original.shape)\n",
        "print(y_train_original.shape)\n",
        "print(x_test_original.shape)\n",
        "print(y_test_original.shape)"
      ],
      "metadata": {
        "colab": {
          "base_uri": "https://localhost:8080/"
        },
        "id": "iJPFKb_B76XO",
        "outputId": "efd67ce6-f64d-45dd-9e0a-6cac0430c920"
      },
      "execution_count": 4,
      "outputs": [
        {
          "output_type": "stream",
          "name": "stdout",
          "text": [
            "(1000, 25)\n",
            "(1000,)\n",
            "(200, 25)\n",
            "(200,)\n"
          ]
        }
      ]
    },
    {
      "cell_type": "code",
      "execution_count": 5,
      "metadata": {
        "id": "nbSZTm93iVb9"
      },
      "outputs": [],
      "source": [
        "# Preprocess input data for Keras.\n",
        "x_train = np.array(x_train_original)\n",
        "y_train = keras.utils.to_categorical(y_train_original, num_classes=10)\n",
        "x_test = np.array(x_test_original)\n",
        "y_test = keras.utils.to_categorical(y_test_original, num_classes=10)"
      ]
    },
    {
      "cell_type": "code",
      "execution_count": 6,
      "metadata": {
        "id": "u5Gvz63iiVZV"
      },
      "outputs": [],
      "source": [
        "def print_data_info(x_train, y_train, x_test, y_test):\n",
        "    #Check data Type\n",
        "    print (\"\\ttype(x_train): {}\".format(type(x_train)))\n",
        "    print (\"\\ttype(y_train): {}\".format(type(y_train)))\n",
        "\n",
        "    #check data Shape\n",
        "    print (\"\\tx_train.shape: {}\".format(np.shape(x_train)))\n",
        "    print (\"\\ty_train.shape: {}\".format(np.shape(y_train)))\n",
        "    print (\"\\tx_test.shape: {}\".format(np.shape(x_test)))\n",
        "    print (\"\\ty_test.shape: {}\".format(np.shape(y_test)))\n",
        "\n",
        "    #sample data\n",
        "    print (\"\\ty_train[0]: {}\".format(y_train[0]))"
      ]
    },
    {
      "cell_type": "code",
      "execution_count": 7,
      "metadata": {
        "colab": {
          "base_uri": "https://localhost:8080/"
        },
        "id": "0C5eJsmeiVe2",
        "outputId": "69ccfa08-683e-4a53-f796-4decde341b44"
      },
      "outputs": [
        {
          "output_type": "stream",
          "name": "stdout",
          "text": [
            "Before Preprocessing:\n",
            "\ttype(x_train): <class 'numpy.ndarray'>\n",
            "\ttype(y_train): <class 'numpy.ndarray'>\n",
            "\tx_train.shape: (1000, 25)\n",
            "\ty_train.shape: (1000,)\n",
            "\tx_test.shape: (200, 25)\n",
            "\ty_test.shape: (200,)\n",
            "\ty_train[0]: 6\n",
            "After Preprocessing:\n",
            "\ttype(x_train): <class 'numpy.ndarray'>\n",
            "\ttype(y_train): <class 'numpy.ndarray'>\n",
            "\tx_train.shape: (1000, 25)\n",
            "\ty_train.shape: (1000, 10)\n",
            "\tx_test.shape: (200, 25)\n",
            "\ty_test.shape: (200, 10)\n",
            "\ty_train[0]: [0. 0. 0. 0. 0. 0. 1. 0. 0. 0.]\n"
          ]
        }
      ],
      "source": [
        "print(\"Before Preprocessing:\")\n",
        "print_data_info(x_train_original, y_train_original, x_test_original, y_test_original)\n",
        "print(\"After Preprocessing:\")\n",
        "print_data_info(x_train, y_train, x_test, y_test)"
      ]
    },
    {
      "cell_type": "code",
      "execution_count": 8,
      "metadata": {
        "id": "ignnQ8cqidv_"
      },
      "outputs": [],
      "source": [
        "x_train = x_train.astype('float32')\n",
        "x_test = x_test.astype('float32')\n",
        "x_train /= 255\n",
        "x_test /= 255"
      ]
    },
    {
      "cell_type": "code",
      "execution_count": 14,
      "metadata": {
        "id": "cEQisVlqidyt"
      },
      "outputs": [],
      "source": [
        "# In this Create the model, input dim=25 and output dim = 10\n",
        "\n",
        "##################################\n",
        "# you code here\n",
        "##################################\n",
        "model = Sequential(\n",
        "    [\n",
        "        keras.Input(shape=(25,)),\n",
        "        Dense(32, activation=\"relu\"),\n",
        "        Dense(64, activation=\"relu\"),\n",
        "        Dense(10, activation=\"softmax\")\n",
        "    ]\n",
        ")"
      ]
    },
    {
      "cell_type": "code",
      "execution_count": 15,
      "metadata": {
        "id": "gk4rIwjbid3W",
        "colab": {
          "base_uri": "https://localhost:8080/"
        },
        "outputId": "5a546249-5785-482b-eb69-c9ace1d495ab"
      },
      "outputs": [
        {
          "output_type": "stream",
          "name": "stdout",
          "text": [
            "Model: \"sequential_1\"\n",
            "_________________________________________________________________\n",
            " Layer (type)                Output Shape              Param #   \n",
            "=================================================================\n",
            " dense_3 (Dense)             (None, 32)                832       \n",
            "                                                                 \n",
            " dense_4 (Dense)             (None, 64)                2112      \n",
            "                                                                 \n",
            " dense_5 (Dense)             (None, 10)                650       \n",
            "                                                                 \n",
            "=================================================================\n",
            "Total params: 3594 (14.04 KB)\n",
            "Trainable params: 3594 (14.04 KB)\n",
            "Non-trainable params: 0 (0.00 Byte)\n",
            "_________________________________________________________________\n"
          ]
        }
      ],
      "source": [
        "model.summary()"
      ]
    },
    {
      "cell_type": "markdown",
      "metadata": {
        "id": "XVBSerPdCxnL"
      },
      "source": [
        "## Compile model"
      ]
    },
    {
      "cell_type": "code",
      "execution_count": 16,
      "metadata": {
        "id": "ZJVfanv2id52"
      },
      "outputs": [],
      "source": [
        "# In this cell compile mode, set loss function and optimizer and get metrics accuracy\n",
        "\n",
        "##################################\n",
        "# you code here\n",
        "model.compile(optimizer=keras.optimizers.Adam(learning_rate=1e-3),\n",
        "              loss='categorical_crossentropy',\n",
        "              metrics=['accuracy'])\n",
        "\n",
        "##################################"
      ]
    },
    {
      "cell_type": "markdown",
      "metadata": {
        "id": "Uz92ZcWOJFFU"
      },
      "source": [
        "## Fit model"
      ]
    },
    {
      "cell_type": "code",
      "execution_count": 18,
      "metadata": {
        "id": "ZaKtROcxinbV",
        "colab": {
          "base_uri": "https://localhost:8080/"
        },
        "outputId": "dfd044e7-5e68-49ce-8e75-26a9cf47afeb"
      },
      "outputs": [
        {
          "output_type": "stream",
          "name": "stdout",
          "text": [
            "Epoch 1/100\n",
            "16/16 [==============================] - 1s 16ms/step - loss: 2.2711 - accuracy: 0.1510 - val_loss: 2.1980 - val_accuracy: 0.2450\n",
            "Epoch 2/100\n",
            "16/16 [==============================] - 0s 4ms/step - loss: 2.1074 - accuracy: 0.4090 - val_loss: 2.0307 - val_accuracy: 0.5300\n",
            "Epoch 3/100\n",
            "16/16 [==============================] - 0s 5ms/step - loss: 1.9251 - accuracy: 0.6190 - val_loss: 1.8109 - val_accuracy: 0.6650\n",
            "Epoch 4/100\n",
            "16/16 [==============================] - 0s 5ms/step - loss: 1.6828 - accuracy: 0.7210 - val_loss: 1.5285 - val_accuracy: 0.7350\n",
            "Epoch 5/100\n",
            "16/16 [==============================] - 0s 5ms/step - loss: 1.3880 - accuracy: 0.7680 - val_loss: 1.2259 - val_accuracy: 0.7800\n",
            "Epoch 6/100\n",
            "16/16 [==============================] - 0s 5ms/step - loss: 1.1042 - accuracy: 0.7900 - val_loss: 0.9734 - val_accuracy: 0.8150\n",
            "Epoch 7/100\n",
            "16/16 [==============================] - 0s 4ms/step - loss: 0.8823 - accuracy: 0.8060 - val_loss: 0.7922 - val_accuracy: 0.8400\n",
            "Epoch 8/100\n",
            "16/16 [==============================] - 0s 5ms/step - loss: 0.7262 - accuracy: 0.8410 - val_loss: 0.6673 - val_accuracy: 0.8550\n",
            "Epoch 9/100\n",
            "16/16 [==============================] - 0s 4ms/step - loss: 0.6247 - accuracy: 0.8390 - val_loss: 0.5869 - val_accuracy: 0.8600\n",
            "Epoch 10/100\n",
            "16/16 [==============================] - 0s 6ms/step - loss: 0.5565 - accuracy: 0.8490 - val_loss: 0.5264 - val_accuracy: 0.8600\n",
            "Epoch 11/100\n",
            "16/16 [==============================] - 0s 5ms/step - loss: 0.5060 - accuracy: 0.8590 - val_loss: 0.4829 - val_accuracy: 0.8800\n",
            "Epoch 12/100\n",
            "16/16 [==============================] - 0s 5ms/step - loss: 0.4644 - accuracy: 0.8650 - val_loss: 0.4528 - val_accuracy: 0.8850\n",
            "Epoch 13/100\n",
            "16/16 [==============================] - 0s 4ms/step - loss: 0.4354 - accuracy: 0.8750 - val_loss: 0.4232 - val_accuracy: 0.8950\n",
            "Epoch 14/100\n",
            "16/16 [==============================] - 0s 5ms/step - loss: 0.4094 - accuracy: 0.8800 - val_loss: 0.4030 - val_accuracy: 0.9100\n",
            "Epoch 15/100\n",
            "16/16 [==============================] - 0s 4ms/step - loss: 0.3863 - accuracy: 0.8840 - val_loss: 0.3770 - val_accuracy: 0.9100\n",
            "Epoch 16/100\n",
            "16/16 [==============================] - 0s 5ms/step - loss: 0.3702 - accuracy: 0.9000 - val_loss: 0.3603 - val_accuracy: 0.9050\n",
            "Epoch 17/100\n",
            "16/16 [==============================] - 0s 6ms/step - loss: 0.3539 - accuracy: 0.8810 - val_loss: 0.3537 - val_accuracy: 0.9150\n",
            "Epoch 18/100\n",
            "16/16 [==============================] - 0s 4ms/step - loss: 0.3366 - accuracy: 0.9000 - val_loss: 0.3330 - val_accuracy: 0.9300\n",
            "Epoch 19/100\n",
            "16/16 [==============================] - 0s 4ms/step - loss: 0.3217 - accuracy: 0.8960 - val_loss: 0.3277 - val_accuracy: 0.9200\n",
            "Epoch 20/100\n",
            "16/16 [==============================] - 0s 4ms/step - loss: 0.3094 - accuracy: 0.9050 - val_loss: 0.3113 - val_accuracy: 0.9300\n",
            "Epoch 21/100\n",
            "16/16 [==============================] - 0s 4ms/step - loss: 0.2969 - accuracy: 0.9100 - val_loss: 0.3027 - val_accuracy: 0.9300\n",
            "Epoch 22/100\n",
            "16/16 [==============================] - 0s 5ms/step - loss: 0.2881 - accuracy: 0.9090 - val_loss: 0.2935 - val_accuracy: 0.9300\n",
            "Epoch 23/100\n",
            "16/16 [==============================] - 0s 5ms/step - loss: 0.2780 - accuracy: 0.9120 - val_loss: 0.2905 - val_accuracy: 0.9250\n",
            "Epoch 24/100\n",
            "16/16 [==============================] - 0s 5ms/step - loss: 0.2698 - accuracy: 0.9160 - val_loss: 0.2827 - val_accuracy: 0.9200\n",
            "Epoch 25/100\n",
            "16/16 [==============================] - 0s 4ms/step - loss: 0.2647 - accuracy: 0.9180 - val_loss: 0.2786 - val_accuracy: 0.9200\n",
            "Epoch 26/100\n",
            "16/16 [==============================] - 0s 4ms/step - loss: 0.2517 - accuracy: 0.9230 - val_loss: 0.2709 - val_accuracy: 0.9250\n",
            "Epoch 27/100\n",
            "16/16 [==============================] - 0s 4ms/step - loss: 0.2451 - accuracy: 0.9260 - val_loss: 0.2689 - val_accuracy: 0.9250\n",
            "Epoch 28/100\n",
            "16/16 [==============================] - 0s 4ms/step - loss: 0.2382 - accuracy: 0.9250 - val_loss: 0.2612 - val_accuracy: 0.9350\n",
            "Epoch 29/100\n",
            "16/16 [==============================] - 0s 4ms/step - loss: 0.2305 - accuracy: 0.9270 - val_loss: 0.2659 - val_accuracy: 0.9200\n",
            "Epoch 30/100\n",
            "16/16 [==============================] - 0s 5ms/step - loss: 0.2272 - accuracy: 0.9300 - val_loss: 0.2584 - val_accuracy: 0.9300\n",
            "Epoch 31/100\n",
            "16/16 [==============================] - 0s 4ms/step - loss: 0.2185 - accuracy: 0.9340 - val_loss: 0.2558 - val_accuracy: 0.9200\n",
            "Epoch 32/100\n",
            "16/16 [==============================] - 0s 5ms/step - loss: 0.2165 - accuracy: 0.9330 - val_loss: 0.2546 - val_accuracy: 0.9300\n",
            "Epoch 33/100\n",
            "16/16 [==============================] - 0s 4ms/step - loss: 0.2087 - accuracy: 0.9410 - val_loss: 0.2462 - val_accuracy: 0.9250\n",
            "Epoch 34/100\n",
            "16/16 [==============================] - 0s 5ms/step - loss: 0.2022 - accuracy: 0.9390 - val_loss: 0.2491 - val_accuracy: 0.9250\n",
            "Epoch 35/100\n",
            "16/16 [==============================] - 0s 7ms/step - loss: 0.2000 - accuracy: 0.9430 - val_loss: 0.2495 - val_accuracy: 0.9250\n",
            "Epoch 36/100\n",
            "16/16 [==============================] - 0s 6ms/step - loss: 0.1919 - accuracy: 0.9470 - val_loss: 0.2429 - val_accuracy: 0.9300\n",
            "Epoch 37/100\n",
            "16/16 [==============================] - 0s 8ms/step - loss: 0.1893 - accuracy: 0.9410 - val_loss: 0.2452 - val_accuracy: 0.9200\n",
            "Epoch 38/100\n",
            "16/16 [==============================] - 0s 7ms/step - loss: 0.1876 - accuracy: 0.9380 - val_loss: 0.2441 - val_accuracy: 0.9250\n",
            "Epoch 39/100\n",
            "16/16 [==============================] - 0s 6ms/step - loss: 0.1835 - accuracy: 0.9430 - val_loss: 0.2417 - val_accuracy: 0.9250\n",
            "Epoch 40/100\n",
            "16/16 [==============================] - 0s 7ms/step - loss: 0.1768 - accuracy: 0.9480 - val_loss: 0.2438 - val_accuracy: 0.9200\n",
            "Epoch 41/100\n",
            "16/16 [==============================] - 0s 7ms/step - loss: 0.1742 - accuracy: 0.9460 - val_loss: 0.2379 - val_accuracy: 0.9300\n",
            "Epoch 42/100\n",
            "16/16 [==============================] - 0s 6ms/step - loss: 0.1696 - accuracy: 0.9540 - val_loss: 0.2416 - val_accuracy: 0.9200\n",
            "Epoch 43/100\n",
            "16/16 [==============================] - 0s 6ms/step - loss: 0.1647 - accuracy: 0.9540 - val_loss: 0.2402 - val_accuracy: 0.9250\n",
            "Epoch 44/100\n",
            "16/16 [==============================] - 0s 6ms/step - loss: 0.1618 - accuracy: 0.9510 - val_loss: 0.2428 - val_accuracy: 0.9250\n",
            "Epoch 45/100\n",
            "16/16 [==============================] - 0s 8ms/step - loss: 0.1583 - accuracy: 0.9560 - val_loss: 0.2394 - val_accuracy: 0.9250\n",
            "Epoch 46/100\n",
            "16/16 [==============================] - 0s 7ms/step - loss: 0.1555 - accuracy: 0.9590 - val_loss: 0.2388 - val_accuracy: 0.9300\n",
            "Epoch 47/100\n",
            "16/16 [==============================] - 0s 6ms/step - loss: 0.1531 - accuracy: 0.9560 - val_loss: 0.2405 - val_accuracy: 0.9200\n",
            "Epoch 48/100\n",
            "16/16 [==============================] - 0s 6ms/step - loss: 0.1490 - accuracy: 0.9580 - val_loss: 0.2421 - val_accuracy: 0.9350\n",
            "Epoch 49/100\n",
            "16/16 [==============================] - 0s 7ms/step - loss: 0.1467 - accuracy: 0.9600 - val_loss: 0.2430 - val_accuracy: 0.9200\n",
            "Epoch 50/100\n",
            "16/16 [==============================] - 0s 7ms/step - loss: 0.1433 - accuracy: 0.9620 - val_loss: 0.2431 - val_accuracy: 0.9200\n",
            "Epoch 51/100\n",
            "16/16 [==============================] - 0s 7ms/step - loss: 0.1421 - accuracy: 0.9610 - val_loss: 0.2465 - val_accuracy: 0.9300\n",
            "Epoch 52/100\n",
            "16/16 [==============================] - 0s 7ms/step - loss: 0.1397 - accuracy: 0.9600 - val_loss: 0.2440 - val_accuracy: 0.9250\n",
            "Epoch 53/100\n",
            "16/16 [==============================] - 0s 7ms/step - loss: 0.1366 - accuracy: 0.9600 - val_loss: 0.2421 - val_accuracy: 0.9250\n",
            "Epoch 54/100\n",
            "16/16 [==============================] - 0s 7ms/step - loss: 0.1331 - accuracy: 0.9640 - val_loss: 0.2453 - val_accuracy: 0.9250\n",
            "Epoch 55/100\n",
            "16/16 [==============================] - 0s 7ms/step - loss: 0.1293 - accuracy: 0.9630 - val_loss: 0.2471 - val_accuracy: 0.9250\n",
            "Epoch 56/100\n",
            "16/16 [==============================] - 0s 7ms/step - loss: 0.1285 - accuracy: 0.9650 - val_loss: 0.2513 - val_accuracy: 0.9250\n",
            "Epoch 57/100\n",
            "16/16 [==============================] - 0s 6ms/step - loss: 0.1259 - accuracy: 0.9640 - val_loss: 0.2502 - val_accuracy: 0.9200\n",
            "Epoch 58/100\n",
            "16/16 [==============================] - 0s 8ms/step - loss: 0.1226 - accuracy: 0.9680 - val_loss: 0.2494 - val_accuracy: 0.9250\n",
            "Epoch 59/100\n",
            "16/16 [==============================] - 0s 5ms/step - loss: 0.1232 - accuracy: 0.9660 - val_loss: 0.2548 - val_accuracy: 0.9200\n",
            "Epoch 60/100\n",
            "16/16 [==============================] - 0s 5ms/step - loss: 0.1197 - accuracy: 0.9680 - val_loss: 0.2457 - val_accuracy: 0.9250\n",
            "Epoch 61/100\n",
            "16/16 [==============================] - 0s 4ms/step - loss: 0.1159 - accuracy: 0.9680 - val_loss: 0.2568 - val_accuracy: 0.9200\n",
            "Epoch 62/100\n",
            "16/16 [==============================] - 0s 4ms/step - loss: 0.1144 - accuracy: 0.9700 - val_loss: 0.2501 - val_accuracy: 0.9300\n",
            "Epoch 63/100\n",
            "16/16 [==============================] - 0s 5ms/step - loss: 0.1129 - accuracy: 0.9710 - val_loss: 0.2548 - val_accuracy: 0.9250\n",
            "Epoch 64/100\n",
            "16/16 [==============================] - 0s 4ms/step - loss: 0.1116 - accuracy: 0.9700 - val_loss: 0.2591 - val_accuracy: 0.9250\n",
            "Epoch 65/100\n",
            "16/16 [==============================] - 0s 4ms/step - loss: 0.1106 - accuracy: 0.9720 - val_loss: 0.2532 - val_accuracy: 0.9250\n",
            "Epoch 66/100\n",
            "16/16 [==============================] - 0s 4ms/step - loss: 0.1104 - accuracy: 0.9730 - val_loss: 0.2654 - val_accuracy: 0.9200\n",
            "Epoch 67/100\n",
            "16/16 [==============================] - 0s 5ms/step - loss: 0.1087 - accuracy: 0.9690 - val_loss: 0.2606 - val_accuracy: 0.9300\n",
            "Epoch 68/100\n",
            "16/16 [==============================] - 0s 4ms/step - loss: 0.1052 - accuracy: 0.9740 - val_loss: 0.2556 - val_accuracy: 0.9250\n",
            "Epoch 69/100\n",
            "16/16 [==============================] - 0s 4ms/step - loss: 0.1018 - accuracy: 0.9740 - val_loss: 0.2630 - val_accuracy: 0.9250\n",
            "Epoch 70/100\n",
            "16/16 [==============================] - 0s 5ms/step - loss: 0.1009 - accuracy: 0.9750 - val_loss: 0.2608 - val_accuracy: 0.9250\n",
            "Epoch 71/100\n",
            "16/16 [==============================] - 0s 6ms/step - loss: 0.0985 - accuracy: 0.9770 - val_loss: 0.2616 - val_accuracy: 0.9300\n",
            "Epoch 72/100\n",
            "16/16 [==============================] - 0s 4ms/step - loss: 0.0976 - accuracy: 0.9740 - val_loss: 0.2690 - val_accuracy: 0.9300\n",
            "Epoch 73/100\n",
            "16/16 [==============================] - 0s 4ms/step - loss: 0.0962 - accuracy: 0.9750 - val_loss: 0.2685 - val_accuracy: 0.9250\n",
            "Epoch 74/100\n",
            "16/16 [==============================] - 0s 5ms/step - loss: 0.0938 - accuracy: 0.9780 - val_loss: 0.2674 - val_accuracy: 0.9250\n",
            "Epoch 75/100\n",
            "16/16 [==============================] - 0s 4ms/step - loss: 0.0908 - accuracy: 0.9780 - val_loss: 0.2720 - val_accuracy: 0.9250\n",
            "Epoch 76/100\n",
            "16/16 [==============================] - 0s 4ms/step - loss: 0.0913 - accuracy: 0.9770 - val_loss: 0.2709 - val_accuracy: 0.9250\n",
            "Epoch 77/100\n",
            "16/16 [==============================] - 0s 4ms/step - loss: 0.0909 - accuracy: 0.9780 - val_loss: 0.2764 - val_accuracy: 0.9250\n",
            "Epoch 78/100\n",
            "16/16 [==============================] - 0s 4ms/step - loss: 0.0885 - accuracy: 0.9800 - val_loss: 0.2737 - val_accuracy: 0.9300\n",
            "Epoch 79/100\n",
            "16/16 [==============================] - 0s 5ms/step - loss: 0.0853 - accuracy: 0.9840 - val_loss: 0.2746 - val_accuracy: 0.9250\n",
            "Epoch 80/100\n",
            "16/16 [==============================] - 0s 5ms/step - loss: 0.0847 - accuracy: 0.9810 - val_loss: 0.2774 - val_accuracy: 0.9250\n",
            "Epoch 81/100\n",
            "16/16 [==============================] - 0s 5ms/step - loss: 0.0822 - accuracy: 0.9830 - val_loss: 0.2800 - val_accuracy: 0.9250\n",
            "Epoch 82/100\n",
            "16/16 [==============================] - 0s 4ms/step - loss: 0.0816 - accuracy: 0.9820 - val_loss: 0.2781 - val_accuracy: 0.9200\n",
            "Epoch 83/100\n",
            "16/16 [==============================] - 0s 6ms/step - loss: 0.0805 - accuracy: 0.9830 - val_loss: 0.2826 - val_accuracy: 0.9250\n",
            "Epoch 84/100\n",
            "16/16 [==============================] - 0s 5ms/step - loss: 0.0816 - accuracy: 0.9810 - val_loss: 0.2784 - val_accuracy: 0.9200\n",
            "Epoch 85/100\n",
            "16/16 [==============================] - 0s 5ms/step - loss: 0.0811 - accuracy: 0.9830 - val_loss: 0.2800 - val_accuracy: 0.9200\n",
            "Epoch 86/100\n",
            "16/16 [==============================] - 0s 4ms/step - loss: 0.0760 - accuracy: 0.9850 - val_loss: 0.2854 - val_accuracy: 0.9300\n",
            "Epoch 87/100\n",
            "16/16 [==============================] - 0s 4ms/step - loss: 0.0770 - accuracy: 0.9840 - val_loss: 0.2844 - val_accuracy: 0.9200\n",
            "Epoch 88/100\n",
            "16/16 [==============================] - 0s 5ms/step - loss: 0.0754 - accuracy: 0.9830 - val_loss: 0.2849 - val_accuracy: 0.9200\n",
            "Epoch 89/100\n",
            "16/16 [==============================] - 0s 5ms/step - loss: 0.0724 - accuracy: 0.9840 - val_loss: 0.2875 - val_accuracy: 0.9200\n",
            "Epoch 90/100\n",
            "16/16 [==============================] - 0s 5ms/step - loss: 0.0733 - accuracy: 0.9860 - val_loss: 0.2859 - val_accuracy: 0.9250\n",
            "Epoch 91/100\n",
            "16/16 [==============================] - 0s 4ms/step - loss: 0.0713 - accuracy: 0.9860 - val_loss: 0.2897 - val_accuracy: 0.9200\n",
            "Epoch 92/100\n",
            "16/16 [==============================] - 0s 5ms/step - loss: 0.0696 - accuracy: 0.9840 - val_loss: 0.2895 - val_accuracy: 0.9200\n",
            "Epoch 93/100\n",
            "16/16 [==============================] - 0s 4ms/step - loss: 0.0692 - accuracy: 0.9880 - val_loss: 0.2901 - val_accuracy: 0.9250\n",
            "Epoch 94/100\n",
            "16/16 [==============================] - 0s 6ms/step - loss: 0.0692 - accuracy: 0.9820 - val_loss: 0.2916 - val_accuracy: 0.9200\n",
            "Epoch 95/100\n",
            "16/16 [==============================] - 0s 5ms/step - loss: 0.0686 - accuracy: 0.9870 - val_loss: 0.2975 - val_accuracy: 0.9300\n",
            "Epoch 96/100\n",
            "16/16 [==============================] - 0s 4ms/step - loss: 0.0679 - accuracy: 0.9840 - val_loss: 0.2931 - val_accuracy: 0.9250\n",
            "Epoch 97/100\n",
            "16/16 [==============================] - 0s 5ms/step - loss: 0.0653 - accuracy: 0.9860 - val_loss: 0.2968 - val_accuracy: 0.9200\n",
            "Epoch 98/100\n",
            "16/16 [==============================] - 0s 5ms/step - loss: 0.0653 - accuracy: 0.9870 - val_loss: 0.2944 - val_accuracy: 0.9150\n",
            "Epoch 99/100\n",
            "16/16 [==============================] - 0s 4ms/step - loss: 0.0651 - accuracy: 0.9860 - val_loss: 0.3025 - val_accuracy: 0.9200\n",
            "Epoch 100/100\n",
            "16/16 [==============================] - 0s 4ms/step - loss: 0.0641 - accuracy: 0.9850 - val_loss: 0.2965 - val_accuracy: 0.9100\n"
          ]
        }
      ],
      "source": [
        "MLP_model = model.fit(x_train, y_train,\n",
        "          epochs=100,\n",
        "          batch_size=64, validation_data=(x_test, y_test))"
      ]
    },
    {
      "cell_type": "code",
      "execution_count": 19,
      "metadata": {
        "colab": {
          "base_uri": "https://localhost:8080/",
          "height": 448
        },
        "id": "SveCNiLkisTF",
        "outputId": "5895f92d-d173-4050-af16-16c6b1f357a7"
      },
      "outputs": [
        {
          "output_type": "execute_result",
          "data": {
            "text/plain": [
              "[<matplotlib.lines.Line2D at 0x79e6f7e670a0>]"
            ]
          },
          "metadata": {},
          "execution_count": 19
        },
        {
          "output_type": "display_data",
          "data": {
            "text/plain": [
              "<Figure size 640x480 with 1 Axes>"
            ],
            "image/png": "[encoded data removed]"
          },
          "metadata": {}
        }
      ],
      "source": [
        "# plot Loss\n",
        "plt.plot(MLP_model.history[\"loss\"])\n",
        "plt.plot(MLP_model.history[\"val_loss\"])"
      ]
    },
    {
      "cell_type": "code",
      "execution_count": 20,
      "metadata": {
        "colab": {
          "base_uri": "https://localhost:8080/",
          "height": 448
        },
        "id": "Cx3VubunisVh",
        "outputId": "151ffe6c-0bad-47a7-b48b-15e03049f6fa"
      },
      "outputs": [
        {
          "output_type": "execute_result",
          "data": {
            "text/plain": [
              "[<matplotlib.lines.Line2D at 0x79e6f757e6e0>]"
            ]
          },
          "metadata": {},
          "execution_count": 20
        },
        {
          "output_type": "display_data",
          "data": {
            "text/plain": [
              "<Figure size 640x480 with 1 Axes>"
            ],
            "image/png": "[encoded data removed]"
          },
          "metadata": {}
        }
      ],
      "source": [
        "# plot accuracy\n",
        "plt.plot(MLP_model.history[\"accuracy\"])\n",
        "plt.plot(MLP_model.history[\"val_accuracy\"])"
      ]
    }
  ],
  "metadata": {
    "colab": {
      "provenance": []
    },
    "kernelspec": {
      "display_name": "Python 3",
      "name": "python3"
    },
    "language_info": {
      "codemirror_mode": {
        "name": "ipython",
        "version": 3
      },
      "file_extension": ".py",
      "mimetype": "text/x-python",
      "name": "python",
      "nbconvert_exporter": "python",
      "pygments_lexer": "ipython3",
      "version": "3.9.0"
    }
  },
  "nbformat": 4,
  "nbformat_minor": 0
}