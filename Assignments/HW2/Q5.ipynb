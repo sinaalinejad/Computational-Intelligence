{
  "cells": [
    {
      "cell_type": "code",
      "execution_count": 1,
      "metadata": {
        "id": "wYbJSYCpnDnO"
      },
      "outputs": [],
      "source": [
        "import numpy as np"
      ]
    },
    {
      "cell_type": "code",
      "execution_count": 2,
      "metadata": {
        "id": "QPYJWK2YL25n"
      },
      "outputs": [],
      "source": [
        "class Sequential:\n",
        "  \"\"\"\n",
        "    This class contains multiple layers in sequence\n",
        "  \"\"\"\n",
        "  def __init__(self, layers, learning_rate):\n",
        "    self.layers = layers # layers of this model\n",
        "    self.lr = learning_rate # learning rate\n",
        "\n",
        "  def forward_pass(self, inputs):\n",
        "    \"\"\"\n",
        "      forward passing to the whole network\n",
        "    \"\"\"\n",
        "    outputs = inputs\n",
        "    for layer in self.layers:\n",
        "      outputs = layer.forward_pass(outputs)\n",
        "    return outputs\n",
        "\n",
        "  def backward_pass(self, derivations):\n",
        "    \"\"\"\n",
        "      backpropagation in the network\n",
        "    \"\"\"\n",
        "    for layer in self.layers[::-1]:\n",
        "      derivations = layer.backward_pass(derivations)\n",
        "\n",
        "  def optimize(self):\n",
        "    \"\"\"\n",
        "      optimizing all the parameters in the network\n",
        "    \"\"\"\n",
        "    for layer in self.layers:\n",
        "      if layer.trainable: # if the layer has trainable parameters\n",
        "        layer.optimize(self.lr) \n",
        "\n",
        "class Dense:\n",
        "  def __init__(self, num_previous_layer_units, num_units):\n",
        "    self.trainable = True # if the layers is trainable\n",
        "    self.units = num_units # number of neurons in this layer\n",
        "    self.prev_units = num_previous_layer_units # number of neurons in the previous layer\n",
        "    # weight initialization\n",
        "    self.weights = np.random.uniform(-1,1,num_previous_layer_units*num_units).reshape((num_previous_layer_units, num_units))\n",
        "    self.biases = np.random.uniform(-1,1,num_units).reshape((1,num_units))\n",
        "  def forward_pass(self, inputs):\n",
        "    \"\"\"\n",
        "      forward passing in this linear layer \n",
        "    \"\"\"\n",
        "    self.last_input = inputs\n",
        "    return np.dot(inputs, self.weights) + self.biases # O = WX + b\n",
        "  def backward_pass(self, derivations):\n",
        "    \"\"\"\n",
        "      backpropagation from this layer\n",
        "    \"\"\"\n",
        "    # computing weight derivations\n",
        "    new_derivations = np.zeros(self.weights.shape) # weight derivations will be stored here\n",
        "    inputs = np.mean(self.last_input, axis=0)\n",
        "    for i in range(new_derivations.shape[0]):\n",
        "      for j in range(new_derivations.shape[1]):\n",
        "          new_derivations[i,j] = inputs[i] * derivations[j]\n",
        "    self.derivations = new_derivations\n",
        "    # computing bias derivations\n",
        "    bias_derivations = np.zeros(self.biases.shape)\n",
        "    for i in range(self.units):\n",
        "      bias_derivations[0,i] = derivations[i]\n",
        "    self.bias_derivations = bias_derivations\n",
        "    # compute the derivations for the next layer in backpropagation\n",
        "    input_derivations = np.zeros(shape=(self.prev_units))\n",
        "    for i in range(len(input_derivations)):\n",
        "      input_derivations[i] = np.sum(derivations * self.weights[i])\n",
        "    return input_derivations\n",
        "  def optimize(self, learning_rate):\n",
        "    \"\"\"\n",
        "      optimizing the parameters of this linear layer based on last derivations calculated in backpropagation function\n",
        "    \"\"\"\n",
        "    self.weights = self.weights - learning_rate * self.derivations\n",
        "    self.biases = self.biases - learning_rate * self.bias_derivations\n",
        "\n",
        "class Sigmoid:\n",
        "  \"\"\"\n",
        "    This is a Sigmoid activation layer\n",
        "  \"\"\"\n",
        "  def __init__(self):\n",
        "    self.trainable = False # this layer does not have any trainable parameter\n",
        "  def forward_pass(self, inputs):\n",
        "    \"\"\"\n",
        "      This function applies forward pass for a layer of sigmoid activation function\n",
        "      inputs: output of previous layer with shape (batch_size, num_prev_layer_units)\n",
        "    \"\"\"\n",
        "    self.last_input = inputs # storing the last input to further use it in backpropagation step\n",
        "    return self.sigmoid(inputs)\n",
        "\n",
        "  def backward_pass(self, derivations):\n",
        "    \"\"\"\n",
        "      Backpropagation for this Sigmoid layer\n",
        "      derivations: this is the derivation of this layer's neurons which was calculated ans passed by previous layer in backward pass\n",
        "    \"\"\"\n",
        "    new_derivations = np.zeros(shape=(self.last_input.shape[1], 1))\n",
        "    inputs = np.mean(self.last_input, axis=0)\n",
        "    inputs_sigmoid = self.sigmoid(inputs)\n",
        "    for i in range(new_derivations.shape[0]):\n",
        "      new_derivations[i,0] = derivations[i] * inputs_sigmoid[i] * (1 - inputs_sigmoid[i]) # formula for derivation of sigmoid is sigmoid * (1 - sigmoid)\n",
        "    return new_derivations\n",
        "\n",
        "  def sigmoid(self, inputs):\n",
        "    \"\"\"\n",
        "      calculating the sigmoid function\n",
        "      formula is 1 / (1 + e^(-x))\n",
        "    \"\"\"\n",
        "    return 1 / (1 + np.exp(-inputs))\n",
        "\n",
        "class Tanh:\n",
        "  def __init__(self):\n",
        "    self.trainable = False # this layer does not have any trainable parameters\n",
        "  def forward_pass(self, inputs):\n",
        "    \"\"\"\n",
        "      This function applies forward pass for a layer of tanh activation function\n",
        "      inputs: output of previous layer with shape (batch_size, num_prev_layer_units)\n",
        "    \"\"\"\n",
        "    self.last_input = inputs\n",
        "    return self.tanh(inputs)\n",
        "\n",
        "  def backward_pass(self, derivations):\n",
        "    \"\"\"\n",
        "      Calculates the derivations for next layer in backpropagation process\n",
        "      derivations: this is the derivation of this layer's neurons which was calculated ans passed by previous layer in backward pass\n",
        "    \"\"\"\n",
        "    new_derivations = np.zeros(shape=(self.last_input.shape[1]))\n",
        "    inputs = np.mean(self.last_input, axis=0)\n",
        "    inputs_tanh = self.tanh(inputs)\n",
        "    for i in range(new_derivations.shape[0]):\n",
        "      new_derivations[i] = derivations[i] * (1 - inputs_tanh[i] * inputs_tanh[i]) # formula for derivation of tanh is 1 - tanh^2\n",
        "    return new_derivations\n",
        "\n",
        "  def tanh(self, inputs):\n",
        "    \"\"\"\n",
        "      calculating the tanh function\n",
        "    \"\"\"\n",
        "    return np.tanh(inputs)\n",
        "\n"
      ]
    },
    {
      "cell_type": "code",
      "execution_count": 3,
      "metadata": {
        "id": "1eUjb9AZzH2V"
      },
      "outputs": [],
      "source": [
        "# defining the model using defined classes\n",
        "model = Sequential(\n",
        "    [\n",
        "        Dense(2,8),\n",
        "        Tanh(),\n",
        "        Dense(8,4),\n",
        "        Tanh(),\n",
        "        Dense(4,1),\n",
        "        Tanh(),\n",
        "    ],\n",
        "    0.01 # learning rate\n",
        ")\n",
        "# defining the train set\n",
        "x_train = np.array([\n",
        "    [1,1],\n",
        "    [1,-1],\n",
        "    [-1,1],\n",
        "    [-1,-1]\n",
        "])\n",
        "# labels\n",
        "y_train = np.array([1,-1,-1,1])"
      ]
    },
    {
      "cell_type": "code",
      "execution_count": 4,
      "metadata": {
        "colab": {
          "base_uri": "https://localhost:8080/",
          "height": 478
        },
        "id": "07v5raXyEmmz",
        "outputId": "949721aa-9ae5-4523-bd7a-48f6950d8a54"
      },
      "outputs": [
        {
          "name": "stdout",
          "output_type": "stream",
          "text": [
            "epoch 0: loss: 1.4457245496940585\n",
            "epoch 50: loss: 0.5148646034534683\n",
            "epoch 100: loss: 0.15829494029293553\n",
            "epoch 150: loss: 0.06402556492133354\n",
            "epoch 200: loss: 0.03546582429838912\n",
            "epoch 250: loss: 0.023324982001497848\n",
            "epoch 300: loss: 0.016943925067009657\n",
            "epoch 350: loss: 0.01311181831082551\n",
            "epoch 400: loss: 0.01059477288353692\n",
            "epoch 450: loss: 0.008832612224242328\n",
            "epoch 500: loss: 0.007538917697088247\n",
            "epoch 550: loss: 0.006553690709543981\n",
            "epoch 600: loss: 0.005781237591529308\n",
            "epoch 650: loss: 0.005161137598347931\n",
            "epoch 700: loss: 0.004653524339122707\n",
            "epoch 750: loss: 0.0042311171215664205\n",
            "epoch 800: loss: 0.00387466654428798\n",
            "epoch 850: loss: 0.0035702304739605303\n",
            "epoch 900: loss: 0.0033074805862786023\n",
            "epoch 950: loss: 0.003078613961362905\n"
          ]
        }
      ],
      "source": [
        "num_epochs = 1000\n",
        "losses = []\n",
        "for i in range(num_epochs):\n",
        "  avg_loss = 0\n",
        "  for j in range(4):\n",
        "    output = model.forward_pass([x_train[j],])\n",
        "    loss = (y_train[j] - output[0][0]) ** 2\n",
        "    derivation = (output[0][0] - y_train[j])\n",
        "    avg_loss += loss\n",
        "    model.backward_pass(np.array([derivation,]))\n",
        "    model.optimize()\n",
        "  avg_loss /= 4\n",
        "  losses.append(avg_loss)\n",
        "  if i % 50 == 0:\n",
        "    print(f\"epoch {i}: loss: {avg_loss}\")\n"
      ]
    },
    {
      "cell_type": "code",
      "execution_count": 5,
      "metadata": {},
      "outputs": [
        {
          "data": {
            "text/plain": [
              "[<matplotlib.lines.Line2D at 0x20675be8490>]"
            ]
          },
          "execution_count": 5,
          "metadata": {},
          "output_type": "execute_result"
        },
        {
          "data": {
            "image/png": "[encoded data removed]",
            "text/plain": [
              "<Figure size 432x288 with 1 Axes>"
            ]
          },
          "metadata": {
            "needs_background": "light"
          },
          "output_type": "display_data"
        }
      ],
      "source": [
        "import matplotlib.pyplot as plt\n",
        "plt.plot(range(num_epochs), losses)"
      ]
    },
    {
      "cell_type": "code",
      "execution_count": 6,
      "metadata": {
        "colab": {
          "base_uri": "https://localhost:8080/"
        },
        "id": "oq0jvifMnTyf",
        "outputId": "83ffa40d-a9df-4f1a-810e-66a5950de1b2"
      },
      "outputs": [
        {
          "name": "stdout",
          "output_type": "stream",
          "text": [
            "accuracy = 1.0\n"
          ]
        }
      ],
      "source": [
        "# calculating the accuracy\n",
        "outputs = model.forward_pass(x_train)\n",
        "accuracy = 0\n",
        "for i in range(4):\n",
        "  if outputs[i] > 0:\n",
        "    final = 1\n",
        "  else:\n",
        "    final = -1\n",
        "  if y_train[i] == final:\n",
        "    accuracy += 1\n",
        "print(f\"accuracy = {accuracy / 4}\")"
      ]
    }
  ],
  "metadata": {
    "colab": {
      "provenance": []
    },
    "kernelspec": {
      "display_name": "Python 3",
      "name": "python3"
    },
    "language_info": {
      "codemirror_mode": {
        "name": "ipython",
        "version": 3
      },
      "file_extension": ".py",
      "mimetype": "text/x-python",
      "name": "python",
      "nbconvert_exporter": "python",
      "pygments_lexer": "ipython3",
      "version": "3.9.0"
    }
  },
  "nbformat": 4,
  "nbformat_minor": 0
}
