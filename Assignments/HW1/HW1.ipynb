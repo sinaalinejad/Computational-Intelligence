{
 "cells": [
  {
   "cell_type": "code",
   "execution_count": 1,
   "metadata": {},
   "outputs": [],
   "source": [
    "import numpy as np"
   ]
  },
  {
   "cell_type": "markdown",
   "metadata": {},
   "source": [
    "# Q1"
   ]
  },
  {
   "cell_type": "code",
   "execution_count": 7,
   "metadata": {},
   "outputs": [],
   "source": [
    "def element_wise_comparison(array1, array2):\n",
    "    \"\"\"\n",
    "    Perform element-wise comparisons between two NumPy arrays.\n",
    "\n",
    "    Parameters:\n",
    "    - array1 (numpy.ndarray): First input NumPy array.\n",
    "    - array2 (numpy.ndarray): Second input NumPy array.\n",
    "\n",
    "    Returns:\n",
    "    - tuple: A tuple of NumPy arrays containing the following element-wise comparison results:\n",
    "        - greater_result (numpy.ndarray): Element-wise greater than comparison.\n",
    "        - greater_equal_result (numpy.ndarray): Element-wise greater than or equal to comparison.\n",
    "        - less_result (numpy.ndarray): Element-wise less than comparison.\n",
    "        - less_equal_result (numpy.ndarray): Element-wise less than or equal to comparison.\n",
    "    \"\"\"\n",
    "    \n",
    "    greater_result = array1 > array2\n",
    "    greater_equal_result = array1 >= array2\n",
    "    less_result = array1 < array2\n",
    "    less_equal_result = array1 <= array2\n",
    "\n",
    "    return greater_result, greater_equal_result, less_result, less_equal_result"
   ]
  },
  {
   "cell_type": "code",
   "execution_count": 4,
   "metadata": {},
   "outputs": [
    {
     "name": "stdout",
     "output_type": "stream",
     "text": [
      "Greater than:\n",
      "[[False False]\n",
      " [ True  True]]\n",
      "\n",
      "Greater than or equal to:\n",
      "[[ True  True]\n",
      " [ True  True]]\n",
      "\n",
      "Less than:\n",
      "[[False False]\n",
      " [False False]]\n",
      "\n",
      "Less than or equal to:\n",
      "[[ True  True]\n",
      " [False False]]\n"
     ]
    }
   ],
   "source": [
    "array1 = np.array([[1, 2], [3, 4]])\n",
    "array2 = np.array([[1, 2], [2, 3]])\n",
    "\n",
    "greater, greater_equal, less, less_equal = element_wise_comparison(array1, array2)\n",
    "\n",
    "print(\"Greater than:\")\n",
    "print(greater)\n",
    "print(\"\\nGreater than or equal to:\")\n",
    "print(greater_equal)\n",
    "print(\"\\nLess than:\")\n",
    "print(less)\n",
    "print(\"\\nLess than or equal to:\")\n",
    "print(less_equal)"
   ]
  },
  {
   "cell_type": "markdown",
   "metadata": {},
   "source": [
    "# Q2"
   ]
  },
  {
   "cell_type": "code",
   "execution_count": 8,
   "metadata": {},
   "outputs": [],
   "source": [
    "def array_multiply(array1, array2, method=\"element-wise\"):\n",
    "    \"\"\"\n",
    "    Perform multiplication between two NumPy arrays using the specified method.\n",
    "\n",
    "    Parameters:\n",
    "    - array1 (numpy.ndarray): First input NumPy array.\n",
    "    - array2 (numpy.ndarray): Second input NumPy array.\n",
    "    - method (str, optional): The multiplication method to use. Defaults to \"element-wise\".\n",
    "\n",
    "    Returns:\n",
    "    - numpy.ndarray: The result of the multiplication operation based on the chosen method.\n",
    "    \"\"\"\n",
    "    if method == \"element-wise\":\n",
    "        result = array1 * array2\n",
    "    if method == \"matrix-multiply\":\n",
    "        result = np.matmul(array1, array2)\n",
    "\n",
    "    return result"
   ]
  },
  {
   "cell_type": "code",
   "execution_count": 9,
   "metadata": {},
   "outputs": [
    {
     "name": "stdout",
     "output_type": "stream",
     "text": [
      "Element-wise multiplication:\n",
      "[[2 0]\n",
      " [3 8]]\n",
      "\n",
      "Matrix multiplication:\n",
      "[[ 4  4]\n",
      " [10  8]]\n"
     ]
    }
   ],
   "source": [
    "array1 = np.array([[1, 2], [3, 4]])\n",
    "array2 = np.array([[2, 0], [1, 2]])\n",
    "\n",
    "# Perform element-wise multiplication\n",
    "element_wise_result = array_multiply(array1, array2, method=\"element-wise\")\n",
    "print(\"Element-wise multiplication:\")\n",
    "print(element_wise_result)\n",
    "\n",
    "# Perform matrix multiplication\n",
    "matrix_multiply_result = array_multiply(array1, array2, method=\"matrix-multiply\")\n",
    "print(\"\\nMatrix multiplication:\")\n",
    "print(matrix_multiply_result)"
   ]
  },
  {
   "cell_type": "markdown",
   "metadata": {},
   "source": [
    "# Q3"
   ]
  },
  {
   "cell_type": "code",
   "execution_count": 3,
   "metadata": {},
   "outputs": [],
   "source": [
    "def broadcast_add(p, q, method=\"row-wise\"):\n",
    "    \"\"\"\n",
    "    Perform addition between two NumPy arrays using broadcasting and the specified method.\n",
    "\n",
    "    Parameters:\n",
    "    - p (numpy.ndarray): First input NumPy array.\n",
    "    - q (numpy.ndarray): Second input NumPy array.\n",
    "    - method (str, optional): The addition method to use. Defaults to \"row-wise\".\n",
    "        - \"row-wise\": Perform row-wise addition, broadcasting q to match the number of rows in p.\n",
    "        - \"column-wise\": Perform column-wise addition, adding q to each column of p.\n",
    "\n",
    "    Returns:\n",
    "    - numpy.ndarray: The result of the addition operation based on the chosen method.\n",
    "    \n",
    "    Raises:\n",
    "    - ValueError: If an invalid method is provided or if the shapes are incompatible for the chosen method.\n",
    "    \"\"\"\n",
    "    if method not in [\"row-wise\", \"column-wise\"]:\n",
    "        raise ValueError(\"method name not recognized\")\n",
    "    if len(q.shape) != 1:\n",
    "        raise ValueError(\"second parameter should be a vector\")\n",
    "    axis = 0 if method == \"row-wise\" else 1\n",
    "    q = np.expand_dims(q, axis = axis)\n",
    "    result = np.add(p,q)\n",
    "    \n",
    "    return result"
   ]
  },
  {
   "cell_type": "code",
   "execution_count": 8,
   "metadata": {},
   "outputs": [
    {
     "name": "stdout",
     "output_type": "stream",
     "text": [
      "1\n",
      "Row-wise addition:\n",
      "[[11 22 33]\n",
      " [14 25 36]\n",
      " [17 28 39]]\n",
      "\n",
      "Column-wise addition:\n",
      "[[11 12 13]\n",
      " [24 25 26]\n",
      " [37 38 39]]\n"
     ]
    }
   ],
   "source": [
    "# Example usage with different-shaped arrays\n",
    "p = np.array([[1, 2, 3], [4, 5, 6], [7, 8, 9]])\n",
    "q = np.array([10, 20, 30])\n",
    "print(len(q.shape))\n",
    "\n",
    "# Add q row-wise to p\n",
    "row_wise_result = broadcast_add(p, q, method=\"row-wise\")\n",
    "print(\"Row-wise addition:\")\n",
    "print(row_wise_result)\n",
    "\n",
    "# Add q column-wise to p\n",
    "column_wise_result = broadcast_add(p, q, method=\"column-wise\")\n",
    "print(\"\\nColumn-wise addition:\")\n",
    "print(column_wise_result)"
   ]
  },
  {
   "cell_type": "markdown",
   "metadata": {},
   "source": [
    "# Q4"
   ]
  },
  {
   "cell_type": "code",
   "execution_count": 12,
   "metadata": {},
   "outputs": [
    {
     "name": "stdout",
     "output_type": "stream",
     "text": [
      "Original Array:\n",
      "[[ 6  4 10  2]\n",
      " [ 3  3  2  6]\n",
      " [ 2  6  8  9]\n",
      " [ 6  2  4  8]]\n",
      "After normalization:\n",
      "[[0.6 0.4 1.  0.2]\n",
      " [0.3 0.3 0.2 0.6]\n",
      " [0.2 0.6 0.8 0.9]\n",
      " [0.6 0.2 0.4 0.8]]\n"
     ]
    }
   ],
   "source": [
    "# Initialize the random matrix\n",
    "x = np.random.randint(1, 11, size=(4,4))\n",
    "\n",
    "print(\"Original Array:\")\n",
    "print(x)\n",
    "\n",
    "# Do the normalization\n",
    "x = x / np.max(x)\n",
    "\n",
    "print(\"After normalization:\")\n",
    "print(x)"
   ]
  },
  {
   "cell_type": "markdown",
   "metadata": {},
   "source": [
    "# Q5"
   ]
  },
  {
   "cell_type": "code",
   "execution_count": 16,
   "metadata": {},
   "outputs": [
    {
     "name": "stdout",
     "output_type": "stream",
     "text": [
      "-0.0021449644154760772\n",
      "Average daily output: 0.0005548260008486606\n",
      "Standarad deviation of daily output: 0.009442945103460245\n",
      "Maximum daily output: ('11/9/2023', 0.02878633838810639)\n",
      "Minimum daily output: ('4/16/2023', -0.028963574613605738)\n",
      "Maximum Closing Price: ['11/29/2023' 124.6180108]\n",
      "Minimum Closing Price: ['4/16/2023' 82.96821012]\n"
     ]
    },
    {
     "data": {
      "text/plain": [
       "Text(0.5, 1.0, 'Daily Output')"
      ]
     },
     "execution_count": 16,
     "metadata": {},
     "output_type": "execute_result"
    },
    {
     "data": {
      "image/png": "[encoded data removed]",
      "text/plain": [
       "<Figure size 1008x360 with 2 Axes>"
      ]
     },
     "metadata": {
      "needs_background": "light"
     },
     "output_type": "display_data"
    }
   ],
   "source": [
    "import matplotlib.pyplot as plt\n",
    "import pandas as pd\n",
    "df = pd.read_csv(\"data.csv\")\n",
    "data = df.to_numpy()\n",
    "daily_output = (data[1:][:,1] - data[:-1][:,1]) / data[:-1][:,1]\n",
    "avg_daily_output = np.mean(daily_output)\n",
    "std_daily_output = np.std(daily_output)\n",
    "maximum_daily_outputs = data[np.argmax(daily_output)+1, 0],np.max(daily_output)\n",
    "minimum_daily_outputs = data[np.argmin(daily_output)+1, 0],np.min(daily_output)\n",
    "max_close_price = data[np.argmax(data[:,1])]\n",
    "min_close_price = data[np.argmin(data[:,1])]\n",
    "print(f\"Average daily output: {avg_daily_output}\")\n",
    "print(f\"Standarad deviation of daily output: {std_daily_output}\")\n",
    "print(f\"Maximum daily output: {maximum_daily_outputs}\")\n",
    "print(f\"Minimum daily output: {minimum_daily_outputs}\")\n",
    "print(f\"Maximum Closing Price: {max_close_price}\")\n",
    "print(f\"Minimum Closing Price: {min_close_price}\")\n",
    "# You should write your code here and print or plot the required data asked in homework documentation\n",
    "figure, axis = plt.subplots(1, 2, figsize=(14,5)) \n",
    "axis[0].plot(data[:,0], data[:,1])\n",
    "axis[0].set_title(\"Closing Prices\")\n",
    "axis[1].plot(data[1:,0], daily_output)\n",
    "axis[1].set_title(\"Daily Output\")"
   ]
  },
  {
   "cell_type": "markdown",
   "metadata": {},
   "source": [
    "# Q6"
   ]
  },
  {
   "cell_type": "code",
   "execution_count": 24,
   "metadata": {},
   "outputs": [],
   "source": [
    "def for_loop_feed_forward(X, w):\n",
    "    \"\"\"\n",
    "    Perform a feed-forward operation using a for loop.\n",
    "\n",
    "    Parameters:\n",
    "    - X (numpy.ndarray): Input data matrix of shape (num_samples, num_features).\n",
    "    - w (numpy.ndarray): Weight matrix of shape (num_features, 1).\n",
    "\n",
    "    Returns:\n",
    "    - numpy.ndarray: Output matrix of shape (num_samples, 1).\n",
    "    \"\"\"\n",
    "    outputs = np.zeros((X.shape[0], 1))\n",
    "    for i in range(X.shape[0]):\n",
    "        sum_val = 0\n",
    "        for j in range(w.shape[0]):\n",
    "            sum_val += X[i,j]*w[j]\n",
    "        outputs[i] = np.array([sum_val,])\n",
    "\n",
    "    return outputs\n",
    "\n",
    "def vectorized_feed_forward(X, w):\n",
    "    \"\"\"\n",
    "    Perform a feed-forward operation using vectorization.\n",
    "\n",
    "    Parameters:\n",
    "    - X (numpy.ndarray): Input data matrix of shape (num_samples, num_features).\n",
    "    - w (numpy.ndarray): Weight matrix of shape (num_features, 1).\n",
    "\n",
    "    Returns:\n",
    "    - numpy.ndarray: Output matrix of shape (num_samples, 1).\n",
    "    \"\"\"\n",
    "    outputs = np.dot(X,w)\n",
    "\n",
    "    return outputs"
   ]
  },
  {
   "cell_type": "code",
   "execution_count": 25,
   "metadata": {},
   "outputs": [
    {
     "name": "stdout",
     "output_type": "stream",
     "text": [
      "Time spent on calculating the outputs using for loops: \n",
      "0.18954896926879883\n",
      "Time spent on calculating the outputs using vectorization: \n",
      "0.0\n"
     ]
    }
   ],
   "source": [
    "import time\n",
    "\n",
    "# generate random samples\n",
    "\n",
    "X = np.random.uniform(0,256,size=(100,500))\n",
    "w = np.random.uniform(0,1,size=(500,1))\n",
    "\n",
    "start_time = time.time()\n",
    "outputs = for_loop_feed_forward(X, w)\n",
    "\n",
    "print(\"Time spent on calculating the outputs using for loops: \")\n",
    "print(time.time() - start_time)\n",
    "\n",
    "start_time = time.time()\n",
    "outputs = vectorized_feed_forward(X, w)\n",
    "print(\"Time spent on calculating the outputs using vectorization: \")\n",
    "print(time.time() - start_time)"
   ]
  },
  {
   "cell_type": "markdown",
   "metadata": {},
   "source": [
    "# Q7"
   ]
  },
  {
   "cell_type": "code",
   "execution_count": 26,
   "metadata": {},
   "outputs": [],
   "source": [
    "def replace_elements_above_threshold(array, threshold):\n",
    "    \"\"\"\n",
    "    Replace elements in a NumPy array that are higher than the given threshold with a specified value.\n",
    "\n",
    "    Parameters:\n",
    "    - array (numpy.ndarray): Input NumPy array.\n",
    "    - threshold (float): Threshold value to compare elements with.\n",
    "\n",
    "    Returns:\n",
    "    - numpy.ndarray: NumPy array with elements replaced above the threshold.\n",
    "    \"\"\"\n",
    "    modified_arr = np.zeros_like(array)\n",
    "    modified_arr[array > threshold] = 1\n",
    "\n",
    "    return modified_arr"
   ]
  },
  {
   "cell_type": "code",
   "execution_count": 27,
   "metadata": {},
   "outputs": [
    {
     "name": "stdout",
     "output_type": "stream",
     "text": [
      "[[0 0 0]\n",
      " [0 0 1]\n",
      " [1 1 1]]\n"
     ]
    }
   ],
   "source": [
    "input_array = np.array([[1, 2, 3], [4, 5, 6], [7, 8, 9]])\n",
    "threshold_value = 5\n",
    "result_array = replace_elements_above_threshold(input_array, threshold_value)\n",
    "print(result_array)"
   ]
  },
  {
   "cell_type": "markdown",
   "metadata": {},
   "source": [
    "# Q8"
   ]
  },
  {
   "cell_type": "code",
   "execution_count": 3,
   "metadata": {},
   "outputs": [],
   "source": [
    "class Matrix:\n",
    "    def __init__(self, matrix):\n",
    "        \"\"\"\n",
    "        Initialize a Matrix object with a given list of lists.\n",
    "\n",
    "        Parameters:\n",
    "        - matrix (list of lists): Input list of lists representing the matrix.\n",
    "        \"\"\"\n",
    "        try:\n",
    "            a = matrix[0][0]\n",
    "        except:\n",
    "            matrix = [matrix,]\n",
    "\n",
    "        self.matrix = matrix\n",
    "\n",
    "    def is_equal(self, second_matrix):\n",
    "        \"\"\"\n",
    "        Check if this Matrix object is equal to another Matrix object.\n",
    "\n",
    "        Parameters:\n",
    "        - second_matrix (Matrix): Another Matrix object for comparison.\n",
    "\n",
    "        Returns:\n",
    "        - bool: True if the matrices are equal, False otherwise.\n",
    "        \"\"\"\n",
    "        return self.matrix == second_matrix.matrix\n",
    "\n",
    "    def is_higher_elementwise(self, second_matrix):\n",
    "        \"\"\"\n",
    "        Check if this Matrix object has higher values element-wise compared to another Matrix object.\n",
    "\n",
    "        Parameters:\n",
    "        - second_matrix (Matrix): Another Matrix object for comparison.\n",
    "\n",
    "        Returns:\n",
    "        - Matrix: Matrix same shape of the input.\n",
    "        \"\"\"\n",
    "        assert len(self.matrix) == len(second_matrix.matrix)\n",
    "        assert len(self.matrix[0]) == len(second_matrix.matrix[0])\n",
    "        result = [[] for i in range(len(self.matrix))]\n",
    "        for i in range(len(self.matrix)):\n",
    "            for j in range(len(self.matrix[i])):\n",
    "                result[i].append(self.matrix[i][j] > second_matrix.matrix[i][j])\n",
    "        return result\n",
    "    \n",
    "    def is_subset(self, second_matrix):\n",
    "        \"\"\"\n",
    "        Check if this Matrix object is a subset of another Matrix object.\n",
    "\n",
    "        Parameters:\n",
    "        - second_matrix (Matrix): Another Matrix object for comparison.\n",
    "\n",
    "        Returns:\n",
    "        - bool: True if this matrix is a subset of 'second_matrix', False otherwise.\n",
    "        \"\"\"\n",
    "        rows, cols = len(self.matrix), len(self.matrix[0])\n",
    "        for i in range(len(second_matrix.matrix) - rows + 1):\n",
    "            for j in range(len(second_matrix.matrix[i]) - cols + 1):\n",
    "                flag = 1\n",
    "                for m in range(rows):\n",
    "                    for n in range(cols):\n",
    "                        if(self.matrix[m][n] != second_matrix.matrix[m+i][n+j]):\n",
    "                            flag = 0\n",
    "                if flag:\n",
    "                    return True\n",
    "\n",
    "        return False\n",
    "\n",
    "    def dot_product(self, second_matrix):\n",
    "        \"\"\"\n",
    "        Calculate the dot product between this Matrix object and another Matrix object.\n",
    "\n",
    "        Parameters:\n",
    "        - second_matrix (Matrix): Another Matrix object for the dot product.\n",
    "\n",
    "        Returns:\n",
    "        - Matrix: The result of the dot product as a numpy.ndarray.\n",
    "        \"\"\"\n",
    "        rows, cols = len(self.matrix), len(self.matrix[0])\n",
    "        rows_sec, cols_sec = len(second_matrix.matrix), len(second_matrix.matrix[0])\n",
    "        sec_matrix = second_matrix.matrix\n",
    "        if cols != rows_sec:\n",
    "            sec_matrix = second_matrix.convert_vertical()\n",
    "        rows_sec, cols_sec = len(sec_matrix), len(sec_matrix[0])\n",
    "        result = [[] for i in range(rows)]\n",
    "        for i in range(rows):\n",
    "            for j in range(cols_sec):\n",
    "                sum_res = 0\n",
    "                for k in range(cols):\n",
    "                    sum_res += self.matrix[i][k] * sec_matrix[k][j]\n",
    "                result[i].append(sum_res)\n",
    "        if rows==1 and cols_sec==1:\n",
    "            return result[0][0]        \n",
    "        return result\n",
    "\n",
    "    def convert_vertical(self):\n",
    "        rows, cols = len(self.matrix), len(self.matrix[0])\n",
    "        output = [[] for i in range(cols)]\n",
    "        for i in range(cols):\n",
    "            output[i].append(self.matrix[0][i])\n",
    "        return output"
   ]
  },
  {
   "cell_type": "code",
   "execution_count": 4,
   "metadata": {},
   "outputs": [
    {
     "name": "stdout",
     "output_type": "stream",
     "text": [
      "False\n",
      "False\n",
      "True\n"
     ]
    }
   ],
   "source": [
    "matrix1 = Matrix([[1, 2, 3], [4, 5, 6], [7, 8, 9]])\n",
    "\n",
    "matrix2 = Matrix([[0, 0, 0], [4, 5, 6], [7, 8, 9]])\n",
    "\n",
    "matrix3 = Matrix([[1, 2, 3], [4, 5, 6], [7, 8, 9]])\n",
    "# test equality of matrices here and show the result #\n",
    "print(matrix1.is_equal(matrix2))\n",
    "print(matrix2.is_equal(matrix1))\n",
    "print(matrix3.is_equal(matrix1))"
   ]
  },
  {
   "cell_type": "code",
   "execution_count": 37,
   "metadata": {},
   "outputs": [
    {
     "name": "stdout",
     "output_type": "stream",
     "text": [
      "[[False, False, False], [True, True, True], [False, False, True]]\n",
      "[[False, False, False], [True, True, True], [False, False, True]]\n"
     ]
    }
   ],
   "source": [
    "matrix1 = Matrix([[1, 2, 3], [4, 5, 6], [7, 8, 9]])\n",
    "matrix2 = Matrix([[0, 0, 0], [4, 5, 6], [7, 8, 9]])\n",
    "matrix3 = Matrix([[0, 0, 0], [10, 20, 30], [-1, 8, 10]])\n",
    "\n",
    "# test proportion of matrices here and show the result #\n",
    "print(matrix3.is_higher_elementwise(matrix1))\n",
    "print(matrix3.is_higher_elementwise(matrix2))\n"
   ]
  },
  {
   "cell_type": "code",
   "execution_count": 38,
   "metadata": {},
   "outputs": [
    {
     "name": "stdout",
     "output_type": "stream",
     "text": [
      "True\n",
      "True\n",
      "False\n"
     ]
    }
   ],
   "source": [
    "matrix1 = Matrix([[1, 2, 3], [4, 5, 6], [7, 8, 9]])\n",
    "matrix4 = Matrix([[5, 6], [8, 9]])\n",
    "matrix5 = Matrix([[1, 2], [4, 5]])\n",
    "matrix6 = Matrix([[1, 2], [3, 4]])\n",
    "\n",
    "\n",
    "# test subset of matrices here and show the result #\n",
    "print(matrix4.is_subset(matrix1))\n",
    "print(matrix5.is_subset(matrix1))\n",
    "print(matrix6.is_subset(matrix1))\n"
   ]
  },
  {
   "cell_type": "code",
   "execution_count": 36,
   "metadata": {},
   "outputs": [
    {
     "name": "stdout",
     "output_type": "stream",
     "text": [
      "[[11, 7], [14, 18], [7, 19]]\n",
      "[[8, 48]]\n",
      "[[10], [20], [18]]\n",
      "28\n"
     ]
    }
   ],
   "source": [
    "matrix7 = Matrix([[3, 1], [2, 4], [-1, 5]])\n",
    "matrix8 = Matrix([[3, 1], [2, 4]])\n",
    "matrix9 = Matrix([2,4,6])\n",
    "matrix10 = Matrix([2,4])\n",
    "matrix11 = Matrix([1,2,3])\n",
    "\n",
    "# test product of matrices here and show the result #\n",
    "print(matrix7.dot_product(matrix8))\n",
    "print(matrix9.dot_product(matrix7))\n",
    "print(matrix7.dot_product(matrix10))\n",
    "print(matrix9.dot_product(matrix11))\n"
   ]
  }
 ],
 "metadata": {
  "kernelspec": {
   "display_name": "Python 3",
   "language": "python",
   "name": "python3"
  },
  "language_info": {
   "codemirror_mode": {
    "name": "ipython",
    "version": 3
   },
   "file_extension": ".py",
   "mimetype": "text/x-python",
   "name": "python",
   "nbconvert_exporter": "python",
   "pygments_lexer": "ipython3",
   "version": "3.9.0"
  },
  "orig_nbformat": 4
 },
 "nbformat": 4,
 "nbformat_minor": 2
}
