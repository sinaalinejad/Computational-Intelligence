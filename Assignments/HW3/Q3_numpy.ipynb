{
 "cells": [
  {
   "cell_type": "code",
   "execution_count": 1,
   "metadata": {},
   "outputs": [],
   "source": [
    "import matplotlib.pyplot as plt\n",
    "import numpy as np"
   ]
  },
  {
   "cell_type": "code",
   "execution_count": 2,
   "metadata": {},
   "outputs": [],
   "source": [
    "np.random.seed(2222)"
   ]
  },
  {
   "cell_type": "code",
   "execution_count": 3,
   "metadata": {},
   "outputs": [],
   "source": [
    "class Sequential:\n",
    "  \"\"\"\n",
    "    This class contains multiple layers in sequence\n",
    "  \"\"\"\n",
    "  def __init__(self, layers, learning_rate):\n",
    "    self.layers = layers # layers of this model\n",
    "    self.lr = learning_rate # learning rate\n",
    "\n",
    "  def forward_pass(self, inputs):\n",
    "    \"\"\"\n",
    "      forward passing to the whole network\n",
    "    \"\"\"\n",
    "    outputs = inputs\n",
    "    for layer in self.layers:\n",
    "      outputs = layer.forward_pass(outputs)\n",
    "    return outputs\n",
    "\n",
    "  def backward_pass(self, derivations):\n",
    "    \"\"\"\n",
    "      backpropagation in the network\n",
    "    \"\"\"\n",
    "    for layer in self.layers[::-1]:\n",
    "      derivations = layer.backward_pass(derivations)\n",
    "\n",
    "  def optimize(self):\n",
    "    \"\"\"\n",
    "      optimizing all the parameters in the network\n",
    "    \"\"\"\n",
    "    for layer in self.layers:\n",
    "      if layer.trainable: # if the layer has trainable parameters\n",
    "        layer.optimize(self.lr)\n",
    "\n",
    "class Dense:\n",
    "  def __init__(self, num_previous_layer_units, num_units):\n",
    "    self.trainable = True # if the layers is trainable\n",
    "    self.units = num_units # number of neurons in this layer\n",
    "    self.prev_units = num_previous_layer_units # number of neurons in the previous layer\n",
    "    # weight initialization\n",
    "    self.weights = np.random.uniform(-1,1,num_previous_layer_units*num_units).reshape((num_previous_layer_units, num_units))\n",
    "    self.biases = np.zeros((1, num_units))\n",
    "  def forward_pass(self, inputs):\n",
    "    \"\"\"\n",
    "      forward passing in this linear layer\n",
    "    \"\"\"\n",
    "    self.last_input = inputs\n",
    "    return np.dot(inputs, self.weights) + self.biases # O = WX + b\n",
    "  def backward_pass(self, derivations):\n",
    "    \"\"\"\n",
    "      backpropagation from this layer\n",
    "    \"\"\"\n",
    "    # computing weight derivations\n",
    "    new_derivations = np.zeros(self.weights.shape) # weight derivations will be stored here\n",
    "    inputs = np.mean(self.last_input, axis=0)\n",
    "    for i in range(new_derivations.shape[0]):\n",
    "      for j in range(new_derivations.shape[1]):\n",
    "          new_derivations[i,j] = inputs[i] * derivations[j]\n",
    "    self.derivations = new_derivations\n",
    "    # computing bias derivations\n",
    "    bias_derivations = np.zeros(self.biases.shape)\n",
    "    for i in range(self.units):\n",
    "      bias_derivations[0,i] = derivations[i]\n",
    "    self.bias_derivations = bias_derivations\n",
    "    # compute the derivations for the next layer in backpropagation\n",
    "    input_derivations = np.zeros(shape=(self.prev_units))\n",
    "    for i in range(len(input_derivations)):\n",
    "      input_derivations[i] = np.sum(derivations * self.weights[i])\n",
    "    return input_derivations\n",
    "  def optimize(self, learning_rate):\n",
    "    \"\"\"\n",
    "      optimizing the parameters of this linear layer based on last derivations calculated in backpropagation function\n",
    "    \"\"\"\n",
    "    self.weights = self.weights - learning_rate * self.derivations\n",
    "    self.biases = self.biases - learning_rate * self.bias_derivations\n",
    "\n",
    "class Sigmoid:\n",
    "  \"\"\"\n",
    "    This is a Sigmoid activation layer\n",
    "  \"\"\"\n",
    "  def __init__(self):\n",
    "    self.trainable = False # this layer does not have any trainable parameter\n",
    "  def forward_pass(self, inputs):\n",
    "    \"\"\"\n",
    "      This function applies forward pass for a layer of sigmoid activation function\n",
    "      inputs: output of previous layer with shape (batch_size, num_prev_layer_units)\n",
    "    \"\"\"\n",
    "    self.last_input = inputs # storing the last input to further use it in backpropagation step\n",
    "    return self.sigmoid(inputs)\n",
    "\n",
    "  def backward_pass(self, derivations):\n",
    "    \"\"\"\n",
    "      Backpropagation for this Sigmoid layer\n",
    "      derivations: this is the derivation of this layer's neurons which was calculated ans passed by previous layer in backward pass\n",
    "    \"\"\"\n",
    "    new_derivations = np.zeros(shape=(self.last_input.shape[1], 1))\n",
    "    inputs = np.mean(self.last_input, axis=0)\n",
    "    inputs_sigmoid = self.sigmoid(inputs)\n",
    "    for i in range(new_derivations.shape[0]):\n",
    "      new_derivations[i,0] = derivations[i] * inputs_sigmoid[i] * (1 - inputs_sigmoid[i]) # formula for derivation of sigmoid is sigmoid * (1 - sigmoid)\n",
    "    return new_derivations\n",
    "\n",
    "  def sigmoid(self, inputs):\n",
    "    \"\"\"\n",
    "      calculating the sigmoid function\n",
    "      formula is 1 / (1 + e^(-x))\n",
    "    \"\"\"\n",
    "    return 1 / (1 + np.exp(-inputs))\n",
    "\n",
    "class Tanh:\n",
    "  def __init__(self):\n",
    "    self.trainable = False # this layer does not have any trainable parameters\n",
    "  def forward_pass(self, inputs):\n",
    "    \"\"\"\n",
    "      This function applies forward pass for a layer of tanh activation function\n",
    "      inputs: output of previous layer with shape (batch_size, num_prev_layer_units)\n",
    "    \"\"\"\n",
    "    self.last_input = inputs\n",
    "    return self.tanh(inputs)\n",
    "\n",
    "  def backward_pass(self, derivations):\n",
    "    \"\"\"\n",
    "      Calculates the derivations for next layer in backpropagation process\n",
    "      derivations: this is the derivation of this layer's neurons which was calculated ans passed by previous layer in backward pass\n",
    "    \"\"\"\n",
    "    new_derivations = np.zeros(shape=(self.last_input.shape[1]))\n",
    "    inputs = np.mean(self.last_input, axis=0)\n",
    "    inputs_tanh = self.tanh(inputs)\n",
    "    for i in range(new_derivations.shape[0]):\n",
    "      new_derivations[i] = derivations[i] * (1 - inputs_tanh[i] * inputs_tanh[i]) # formula for derivation of tanh is 1 - tanh^2\n",
    "    return new_derivations\n",
    "\n",
    "  def tanh(self, inputs):\n",
    "    \"\"\"\n",
    "      calculating the tanh function\n",
    "    \"\"\"\n",
    "    return np.tanh(inputs)\n",
    "class ReLU:\n",
    "  def __init__(self):\n",
    "    self.trainable = False\n",
    "  def forward_pass(self, inputs):\n",
    "    \"\"\"\n",
    "      This function applies forward pass for a layer of relu activation function\n",
    "      inputs: output of previous layer with shape (batch_size, num_prev_layer_units)\n",
    "    \"\"\"\n",
    "    output = inputs.copy()\n",
    "    self.last_input = inputs\n",
    "    output[inputs < 0] = 0\n",
    "    return output\n",
    "  def backward_pass(self, derivations):\n",
    "    \"\"\"\n",
    "      Calculates the derivations for next layer in backpropagation process\n",
    "      derivations: this is the derivation of this layer's neurons which was calculated ans passed by previous layer in backward pass\n",
    "    \"\"\"\n",
    "    new_derivations = np.zeros(shape=(self.last_input.shape[1]))\n",
    "    inputs = np.mean(self.last_input, axis=0)\n",
    "    new_derivations[inputs > 0] = derivations[inputs > 0]\n",
    "    return new_derivations"
   ]
  },
  {
   "cell_type": "markdown",
   "metadata": {},
   "source": [
    "## Defining Dataset"
   ]
  },
  {
   "cell_type": "code",
   "execution_count": 4,
   "metadata": {},
   "outputs": [],
   "source": [
    "## Defining the dataset for y=x^2\n",
    "x_train = []\n",
    "y_train = []\n",
    "bound = 3\n",
    "step = 0.05\n",
    "i = -bound\n",
    "while(i <= bound):\n",
    "  x_train.append(i)\n",
    "  y_train.append(i**2)\n",
    "  i += step\n",
    "x_train = np.array(x_train)\n",
    "y_train = np.array(y_train)"
   ]
  },
  {
   "cell_type": "markdown",
   "metadata": {},
   "source": [
    "## Defining Model"
   ]
  },
  {
   "cell_type": "code",
   "execution_count": 5,
   "metadata": {},
   "outputs": [],
   "source": [
    "# defining the model using defined classes\n",
    "model = Sequential(\n",
    "    [\n",
    "        Dense(1,60),\n",
    "        ReLU(),\n",
    "        Dense(60,1)\n",
    "    ],\n",
    "    0.01 # learning rate\n",
    ")"
   ]
  },
  {
   "cell_type": "markdown",
   "metadata": {},
   "source": [
    "## Training Model"
   ]
  },
  {
   "cell_type": "code",
   "execution_count": 6,
   "metadata": {},
   "outputs": [
    {
     "name": "stdout",
     "output_type": "stream",
     "text": [
      "epoch 0: loss: 0.20990890054177835\n",
      "epoch 10: loss: 0.1679737390897365\n",
      "epoch 20: loss: 0.10398117574260332\n",
      "epoch 30: loss: 0.07028856663946294\n",
      "epoch 40: loss: 0.05121291306438501\n",
      "epoch 50: loss: 0.038232912046512454\n",
      "epoch 60: loss: 0.029909671061593715\n",
      "epoch 70: loss: 0.024414606516472228\n",
      "epoch 80: loss: 0.020490262720847575\n",
      "epoch 90: loss: 0.017563537500930974\n",
      "epoch 100: loss: 0.015290932182410788\n",
      "epoch 110: loss: 0.013362437585735146\n",
      "epoch 120: loss: 0.011804267224867755\n",
      "epoch 130: loss: 0.010437148521299084\n",
      "epoch 140: loss: 0.009279425230407996\n",
      "epoch 150: loss: 0.008340357720543297\n",
      "epoch 160: loss: 0.007512297737408902\n",
      "epoch 170: loss: 0.006798034025341707\n",
      "epoch 180: loss: 0.006191755280009034\n",
      "epoch 190: loss: 0.005649277003141094\n"
     ]
    }
   ],
   "source": [
    "## Training the model\n",
    "num_epochs = 200\n",
    "losses = []\n",
    "for i in range(num_epochs):\n",
    "  avg_loss = 0.0\n",
    "  for j in range(len(x_train)):\n",
    "    output = model.forward_pass([[x_train[j],],])\n",
    "    ## Computing MSE error\n",
    "    loss = (y_train[j] - output[0][0]) ** 2\n",
    "    ## Computing the derivation of the loss for the last layer's output\n",
    "    derivation = (output[0][0] - y_train[j])\n",
    "    avg_loss += loss\n",
    "    ## computing gradients of parameters\n",
    "    model.backward_pass(np.array([derivation,]))\n",
    "    ## updating weights using calculated gradients\n",
    "    model.optimize()\n",
    "  ## computing average loss on the whole dataset in each epoch\n",
    "  avg_loss /= len(x_train)\n",
    "  losses.append(avg_loss)\n",
    "  if i % 10 == 0:\n",
    "    print(f\"epoch {i}: loss: {avg_loss}\")\n"
   ]
  },
  {
   "cell_type": "markdown",
   "metadata": {},
   "source": [
    "## Loss Plot"
   ]
  },
  {
   "cell_type": "code",
   "execution_count": 7,
   "metadata": {},
   "outputs": [
    {
     "data": {
      "text/plain": [
       "[<matplotlib.lines.Line2D at 0x1a8a1e0c340>]"
      ]
     },
     "execution_count": 7,
     "metadata": {},
     "output_type": "execute_result"
    },
    {
     "data": {
      "image/png": "[encoded data removed]",
      "text/plain": [
       "<Figure size 432x288 with 1 Axes>"
      ]
     },
     "metadata": {
      "needs_background": "light"
     },
     "output_type": "display_data"
    }
   ],
   "source": [
    "plt.plot(range(num_epochs), losses)"
   ]
  },
  {
   "cell_type": "markdown",
   "metadata": {},
   "source": [
    "## Evaluation"
   ]
  },
  {
   "cell_type": "code",
   "execution_count": 12,
   "metadata": {},
   "outputs": [],
   "source": [
    "y_pred = model.forward_pass(x_train.reshape(-1,1))\n",
    "y_pred = y_pred.ravel()"
   ]
  },
  {
   "cell_type": "code",
   "execution_count": 9,
   "metadata": {},
   "outputs": [
    {
     "data": {
      "text/plain": [
       "[<matplotlib.lines.Line2D at 0x1a8a3f10880>]"
      ]
     },
     "execution_count": 9,
     "metadata": {},
     "output_type": "execute_result"
    },
    {
     "data": {
      "image/png": "[encoded data removed]",
      "text/plain": [
       "<Figure size 432x288 with 1 Axes>"
      ]
     },
     "metadata": {
      "needs_background": "light"
     },
     "output_type": "display_data"
    }
   ],
   "source": [
    "plt.plot(x_train, y_pred)"
   ]
  },
  {
   "cell_type": "code",
   "execution_count": 10,
   "metadata": {},
   "outputs": [
    {
     "data": {
      "text/plain": [
       "[<matplotlib.lines.Line2D at 0x1a8a3f75df0>]"
      ]
     },
     "execution_count": 10,
     "metadata": {},
     "output_type": "execute_result"
    },
    {
     "data": {
      "image/png": "[encoded data removed]",
      "text/plain": [
       "<Figure size 432x288 with 1 Axes>"
      ]
     },
     "metadata": {
      "needs_background": "light"
     },
     "output_type": "display_data"
    }
   ],
   "source": [
    "plt.plot(x_train, y_train)"
   ]
  },
  {
   "cell_type": "code",
   "execution_count": 11,
   "metadata": {},
   "outputs": [
    {
     "data": {
      "image/png": "[encoded data removed]",
      "text/plain": [
       "<Figure size 720x360 with 1 Axes>"
      ]
     },
     "metadata": {
      "needs_background": "light"
     },
     "output_type": "display_data"
    }
   ],
   "source": [
    "plt.figure(figsize=(10,5))\n",
    "plt.plot(x_train, y_train, label='y')\n",
    "plt.plot(x_train, y_pred, label='Predicted')\n",
    "plt.xlabel(\"y\")\n",
    "plt.ylabel(\"x\")\n",
    "plt.legend(frameon=False)\n",
    "plt.show()"
   ]
  }
 ],
 "metadata": {
  "kernelspec": {
   "display_name": "Python 3",
   "language": "python",
   "name": "python3"
  },
  "language_info": {
   "codemirror_mode": {
    "name": "ipython",
    "version": 3
   },
   "file_extension": ".py",
   "mimetype": "text/x-python",
   "name": "python",
   "nbconvert_exporter": "python",
   "pygments_lexer": "ipython3",
   "version": "3.9.0"
  }
 },
 "nbformat": 4,
 "nbformat_minor": 2
}
